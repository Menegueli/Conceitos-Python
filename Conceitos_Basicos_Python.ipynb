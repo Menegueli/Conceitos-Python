{
 "cells": [
  {
   "cell_type": "markdown",
   "id": "5934ad78",
   "metadata": {},
   "source": [
    "# Título: Conceitos Básicos de Programação em Python\n",
    "# Autor: Gabriel Menegueli"
   ]
  },
  {
   "cell_type": "markdown",
   "id": "1508a004",
   "metadata": {},
   "source": [
    "### Seção 1: Variáveis e Operações Básicas"
   ]
  },
  {
   "cell_type": "code",
   "execution_count": 3,
   "id": "71cf0fcc",
   "metadata": {},
   "outputs": [
    {
     "name": "stdout",
     "output_type": "stream",
     "text": [
      "Soma: 15\n",
      "Subtração: 5\n",
      "Multiplicação: 50\n",
      "Divisão: 2.0\n"
     ]
    }
   ],
   "source": [
    "# Declarando variáveis\n",
    "a = 10\n",
    "b = 5\n",
    "\n",
    "# Operações matemáticas básicas\n",
    "soma = a + b\n",
    "subtracao = a - b\n",
    "multiplicacao = a * b\n",
    "divisao = a / b\n",
    "\n",
    "print(\"Soma:\", soma)\n",
    "print(\"Subtração:\", subtracao)\n",
    "print(\"Multiplicação:\", multiplicacao)\n",
    "print(\"Divisão:\", divisao)\n"
   ]
  },
  {
   "cell_type": "markdown",
   "id": "05c8fb84",
   "metadata": {},
   "source": [
    "### Seção 2: Listas"
   ]
  },
  {
   "cell_type": "code",
   "execution_count": 5,
   "id": "3c0e0b1b",
   "metadata": {},
   "outputs": [
    {
     "name": "stdout",
     "output_type": "stream",
     "text": [
      "Primeira fruta: maçã\n",
      "Segunda fruta: banana\n",
      "Lista de frutas atualizada: ['maçã', 'banana', 'laranja', 'uva']\n",
      "Lista de frutas após remoção: ['maçã', 'laranja', 'uva']\n",
      "Lista de frutas após edição: ['morango', 'laranja', 'uva']\n",
      "Tamanho da lista de frutas: 3\n",
      "Frutas em ordem alfabética: ['laranja', 'morango', 'uva']\n"
     ]
    }
   ],
   "source": [
    "# Criando uma lista\n",
    "frutas = [\"maçã\", \"banana\", \"laranja\"]\n",
    "\n",
    "# Acessando elementos da lista\n",
    "print(\"Primeira fruta:\", frutas[0])\n",
    "print(\"Segunda fruta:\", frutas[1])\n",
    "\n",
    "# Adicionando elementos na lista\n",
    "frutas.append(\"uva\")\n",
    "print(\"Lista de frutas atualizada:\", frutas)\n",
    "\n",
    "# Removendo elementos da lista\n",
    "frutas.remove(\"banana\")\n",
    "print(\"Lista de frutas após remoção:\", frutas)\n",
    "\n",
    "# Editando elementos da lista\n",
    "frutas[0] = \"morango\"\n",
    "print(\"Lista de frutas após edição:\", frutas)\n",
    "\n",
    "# Outras operações úteis com listas\n",
    "print(\"Tamanho da lista de frutas:\", len(frutas))\n",
    "print(\"Frutas em ordem alfabética:\", sorted(frutas))\n"
   ]
  },
  {
   "cell_type": "markdown",
   "id": "2fedf4ee",
   "metadata": {},
   "source": [
    "### Seção 3: Tuplas"
   ]
  },
  {
   "cell_type": "code",
   "execution_count": 7,
   "id": "f43f8108",
   "metadata": {},
   "outputs": [
    {
     "name": "stdout",
     "output_type": "stream",
     "text": [
      "Primeira cor: vermelho\n",
      "Última cor: azul\n",
      "Tamanho da tupla de cores: 3\n"
     ]
    }
   ],
   "source": [
    "# Criando uma tupla\n",
    "cores = (\"vermelho\", \"verde\", \"azul\")\n",
    "\n",
    "# Acessando elementos da tupla\n",
    "print(\"Primeira cor:\", cores[0])\n",
    "print(\"Última cor:\", cores[-1])\n",
    "\n",
    "# Tentando alterar um elemento da tupla (gera erro)\n",
    "# cores[0] = \"amarelo\"\n",
    "\n",
    "# Outras operações úteis com tuplas\n",
    "print(\"Tamanho da tupla de cores:\", len(cores))\n"
   ]
  },
  {
   "cell_type": "markdown",
   "id": "5f63fcbc",
   "metadata": {},
   "source": [
    "### Seção 4: Dicionários"
   ]
  },
  {
   "cell_type": "code",
   "execution_count": 9,
   "id": "2ed38bb0",
   "metadata": {},
   "outputs": [
    {
     "name": "stdout",
     "output_type": "stream",
     "text": [
      "Nome do aluno: João\n",
      "Idade do aluno: 20\n",
      "Dicionário de aluno atualizado: {'nome': 'João', 'idade': 20, 'curso': 'Engenharia', 'universidade': 'UFPR'}\n",
      "Dicionário de aluno após edição: {'nome': 'João', 'idade': 21, 'curso': 'Engenharia', 'universidade': 'UFPR'}\n",
      "Dicionário de aluno após remoção: {'nome': 'João', 'idade': 21, 'universidade': 'UFPR'}\n",
      "Chaves no dicionário: dict_keys(['nome', 'idade', 'universidade'])\n",
      "Valores no dicionário: dict_values(['João', 21, 'UFPR'])\n"
     ]
    }
   ],
   "source": [
    "# Criando um dicionário\n",
    "aluno = {\"nome\": \"João\", \"idade\": 20, \"curso\": \"Engenharia\"}\n",
    "\n",
    "# Acessando valores do dicionário\n",
    "print(\"Nome do aluno:\", aluno[\"nome\"])\n",
    "print(\"Idade do aluno:\", aluno[\"idade\"])\n",
    "\n",
    "# Adicionando um novo par chave-valor\n",
    "aluno[\"universidade\"] = \"UFPR\"\n",
    "print(\"Dicionário de aluno atualizado:\", aluno)\n",
    "\n",
    "# Editando valores no dicionário\n",
    "aluno[\"idade\"] = 21\n",
    "print(\"Dicionário de aluno após edição:\", aluno)\n",
    "\n",
    "# Removendo um par chave-valor do dicionário\n",
    "del aluno[\"curso\"]\n",
    "print(\"Dicionário de aluno após remoção:\", aluno)\n",
    "\n",
    "# Outras operações úteis com dicionários\n",
    "print(\"Chaves no dicionário:\", aluno.keys())\n",
    "print(\"Valores no dicionário:\", aluno.values())\n"
   ]
  },
  {
   "cell_type": "markdown",
   "id": "f4600a8e",
   "metadata": {},
   "source": [
    "### Seção 5: Laços de Repetição"
   ]
  },
  {
   "cell_type": "code",
   "execution_count": 11,
   "id": "d45fce82",
   "metadata": {},
   "outputs": [
    {
     "name": "stdout",
     "output_type": "stream",
     "text": [
      "Fruta: morango\n",
      "Fruta: laranja\n",
      "Fruta: uva\n",
      "Contador: 0\n",
      "Contador: 1\n",
      "Contador: 2\n"
     ]
    }
   ],
   "source": [
    "# Usando um laço for\n",
    "for fruta in frutas:\n",
    "    print(\"Fruta:\", fruta)\n",
    "\n",
    "# Usando um laço while\n",
    "contador = 0\n",
    "while contador < 3:\n",
    "    print(\"Contador:\", contador)\n",
    "    contador += 1\n"
   ]
  },
  {
   "cell_type": "markdown",
   "id": "400512e2",
   "metadata": {},
   "source": [
    "### Seção 6: Manipulação de Arquivo JSON"
   ]
  },
  {
   "cell_type": "code",
   "execution_count": 13,
   "id": "027b818f",
   "metadata": {},
   "outputs": [
    {
     "name": "stdout",
     "output_type": "stream",
     "text": [
      "Dados carregados do JSON: {'nome': 'Maria', 'idade': 25, 'cidades_visitadas': ['Paris', 'Londres', 'Nova York']}\n"
     ]
    }
   ],
   "source": [
    "import json\n",
    "\n",
    "# Criando um dicionário para ser salvo como JSON\n",
    "dados = {\n",
    "    \"nome\": \"Maria\",\n",
    "    \"idade\": 25,\n",
    "    \"cidades_visitadas\": [\"Paris\", \"Londres\", \"Nova York\"]\n",
    "}\n",
    "\n",
    "# Salvando o dicionário em um arquivo JSON\n",
    "with open(\"dados.json\", \"w\") as arquivo:\n",
    "    json.dump(dados, arquivo)\n",
    "\n",
    "# Carregando dados de um arquivo JSON\n",
    "with open(\"dados.json\", \"r\") as arquivo:\n",
    "    dados_carregados = json.load(arquivo)\n",
    "    print(\"Dados carregados do JSON:\", dados_carregados)\n"
   ]
  },
  {
   "cell_type": "markdown",
   "id": "a9a29570",
   "metadata": {},
   "source": [
    "### Seção 7: Funções em Python"
   ]
  },
  {
   "cell_type": "code",
   "execution_count": 15,
   "id": "54652518",
   "metadata": {},
   "outputs": [
    {
     "name": "stdout",
     "output_type": "stream",
     "text": [
      "Olá, bem-vindo ao tutorial de Python!\n"
     ]
    }
   ],
   "source": [
    "# Definindo uma função simples\n",
    "def saudacao():\n",
    "    print('Olá, bem-vindo ao tutorial de Python!')\n",
    "\n",
    "# Chamando a função\n",
    "saudacao()\n"
   ]
  },
  {
   "cell_type": "markdown",
   "id": "12826dc1",
   "metadata": {},
   "source": [
    "### Seção 8: Operações Matemáticas e Comparações"
   ]
  },
  {
   "cell_type": "code",
   "execution_count": 17,
   "id": "3cf4b17c",
   "metadata": {},
   "outputs": [
    {
     "name": "stdout",
     "output_type": "stream",
     "text": [
      "Soma: 13\n",
      "Subtração: 7\n",
      "Multiplicação: 30\n",
      "Divisão: 3.3333333333333335\n",
      "Módulo: 1\n",
      "Potenciação: 1000\n",
      "x é igual a y? False\n",
      "x é diferente de y? True\n",
      "x é maior que y? True\n",
      "x é menor ou igual a y? False\n"
     ]
    }
   ],
   "source": [
    "# Operações Matemáticas\n",
    "x = 10\n",
    "y = 3\n",
    "\n",
    "# Soma\n",
    "print('Soma:', x + y)\n",
    "\n",
    "# Subtração\n",
    "print('Subtração:', x - y)\n",
    "\n",
    "# Multiplicação\n",
    "print('Multiplicação:', x * y)\n",
    "\n",
    "# Divisão\n",
    "print('Divisão:', x / y)\n",
    "\n",
    "# Módulo (resto da divisão)\n",
    "print('Módulo:', x % y)\n",
    "\n",
    "# Potenciação\n",
    "print('Potenciação:', x ** y)\n",
    "\n",
    "# Comparações\n",
    "print('x é igual a y?', x == y)\n",
    "print('x é diferente de y?', x != y)\n",
    "print('x é maior que y?', x > y)\n",
    "print('x é menor ou igual a y?', x <= y)\n"
   ]
  },
  {
   "cell_type": "markdown",
   "id": "2576edfb",
   "metadata": {},
   "source": [
    "### Seção 9: Módulos e Importações"
   ]
  },
  {
   "cell_type": "code",
   "execution_count": 19,
   "id": "0928cd89",
   "metadata": {},
   "outputs": [
    {
     "name": "stdout",
     "output_type": "stream",
     "text": [
      "Raiz quadrada de 16: 4.0\n",
      "Seno de 90 graus: 1.0\n"
     ]
    }
   ],
   "source": [
    "# Importando o módulo math para operações matemáticas avançadas\n",
    "import math\n",
    "\n",
    "# Usando funções do módulo math\n",
    "raiz_quadrada = math.sqrt(16)\n",
    "print('Raiz quadrada de 16:', raiz_quadrada)\n",
    "\n",
    "angulo = math.radians(90)  # Convertendo 90 graus para radianos\n",
    "print('Seno de 90 graus:', math.sin(angulo))\n"
   ]
  },
  {
   "cell_type": "markdown",
   "id": "805a52ce",
   "metadata": {},
   "source": [
    "### Seção 7: Estruturas Condicionais\n",
    "\n",
    "As estruturas condicionais permitem que o código tome decisões baseadas em condições específicas. As palavras-chave mais comuns são `if`, `else`, e `elif` (else if).\n",
    "\n",
    "#### Exemplo de uso:\n"
   ]
  },
  {
   "cell_type": "code",
   "execution_count": 21,
   "id": "1a3e4aa4",
   "metadata": {},
   "outputs": [
    {
     "name": "stdout",
     "output_type": "stream",
     "text": [
      "Adulto\n"
     ]
    }
   ],
   "source": [
    "# Usando estruturas condicionais\n",
    "idade = 20\n",
    "\n",
    "if idade < 18:\n",
    "    print('Menor de idade')\n",
    "elif idade >= 18 and idade < 65:\n",
    "    print('Adulto')\n",
    "else:\n",
    "    print('Idoso')\n"
   ]
  },
  {
   "cell_type": "markdown",
   "id": "d343940a",
   "metadata": {},
   "source": [
    "### Seção 8: Funções Melhoradas\n",
    "\n",
    "Vamos criar uma função que realiza cálculos básicos, como soma e subtração, e retorna múltiplos valores. Essa função receberá parâmetros e terá valores padrões.\n",
    "\n",
    "#### Exemplo de função melhorada:\n"
   ]
  },
  {
   "cell_type": "code",
   "execution_count": 23,
   "id": "a0c527a3",
   "metadata": {},
   "outputs": [
    {
     "name": "stdout",
     "output_type": "stream",
     "text": [
      "Soma: 25\n",
      "Subtração: 15\n"
     ]
    }
   ],
   "source": [
    "# Definindo uma função com parâmetros e retorno de múltiplos valores\n",
    "def operacoes_basicas(x, y=10):\n",
    "    soma = x + y\n",
    "    subtracao = x - y\n",
    "    return soma, subtracao\n",
    "\n",
    "# Chamando a função e armazenando os resultados\n",
    "resultado_soma, resultado_subtracao = operacoes_basicas(20, 5)\n",
    "\n",
    "# Exibindo os resultados\n",
    "print('Soma:', resultado_soma)\n",
    "print('Subtração:', resultado_subtracao)\n"
   ]
  }
 ],
 "metadata": {
  "kernelspec": {
   "display_name": "Python 3 (ipykernel)",
   "language": "python",
   "name": "python3"
  },
  "language_info": {
   "codemirror_mode": {
    "name": "ipython",
    "version": 3
   },
   "file_extension": ".py",
   "mimetype": "text/x-python",
   "name": "python",
   "nbconvert_exporter": "python",
   "pygments_lexer": "ipython3",
   "version": "3.12.3"
  }
 },
 "nbformat": 4,
 "nbformat_minor": 5
}
