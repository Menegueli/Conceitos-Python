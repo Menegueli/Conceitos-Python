{
 "cells": [
  {
   "cell_type": "markdown",
   "metadata": {},
   "source": [
    "# Título: Conceitos Básicos de Programação em Python\n",
    "# Autor: Gabriel Menegueli\n"
   ]
  },
  {
   "cell_type": "markdown",
   "metadata": {},
   "source": [
    "### Seção 1: Variáveis e Operações Básicas\n"
   ]
  },
  {
   "cell_type": "code",
   "execution_count": 3,
   "metadata": {},
   "outputs": [
    {
     "name": "stdout",
     "output_type": "stream",
     "text": [
      "Soma: 15\n",
      "Subtração: 5\n",
      "Multiplicação: 50\n",
      "Divisão: 2.0\n"
     ]
    }
   ],
   "source": [
    "# Declarando variáveis\n",
    "a = 10\n",
    "b = 5\n",
    "\n",
    "# Operações matemáticas básicas\n",
    "soma = a + b\n",
    "subtracao = a - b\n",
    "multiplicacao = a * b\n",
    "divisao = a / b\n",
    "\n",
    "print(\"Soma:\", soma)\n",
    "print(\"Subtração:\", subtracao)\n",
    "print(\"Multiplicação:\", multiplicacao)\n",
    "print(\"Divisão:\", divisao)\n"
   ]
  },
  {
   "cell_type": "markdown",
   "metadata": {},
   "source": [
    "### Seção 2: Listas\n"
   ]
  },
  {
   "cell_type": "code",
   "execution_count": 5,
   "metadata": {},
   "outputs": [
    {
     "name": "stdout",
     "output_type": "stream",
     "text": [
      "Primeira fruta: maçã\n",
      "Segunda fruta: banana\n",
      "Lista de frutas atualizada: ['maçã', 'banana', 'laranja', 'uva']\n",
      "Lista de frutas após remoção: ['maçã', 'laranja', 'uva']\n",
      "Lista de frutas após edição: ['morango', 'laranja', 'uva']\n",
      "Tamanho da lista de frutas: 3\n",
      "Frutas em ordem alfabética: ['laranja', 'morango', 'uva']\n"
     ]
    }
   ],
   "source": [
    "# Criando uma lista\n",
    "frutas = [\"maçã\", \"banana\", \"laranja\"]\n",
    "\n",
    "# Acessando elementos da lista\n",
    "print(\"Primeira fruta:\", frutas[0])\n",
    "print(\"Segunda fruta:\", frutas[1])\n",
    "\n",
    "# Adicionando elementos na lista\n",
    "frutas.append(\"uva\")\n",
    "print(\"Lista de frutas atualizada:\", frutas)\n",
    "\n",
    "# Removendo elementos da lista\n",
    "frutas.remove(\"banana\")\n",
    "print(\"Lista de frutas após remoção:\", frutas)\n",
    "\n",
    "# Editando elementos da lista\n",
    "frutas[0] = \"morango\"\n",
    "print(\"Lista de frutas após edição:\", frutas)\n",
    "\n",
    "# Outras operações úteis com listas\n",
    "print(\"Tamanho da lista de frutas:\", len(frutas))\n",
    "print(\"Frutas em ordem alfabética:\", sorted(frutas))\n"
   ]
  },
  {
   "cell_type": "markdown",
   "metadata": {},
   "source": [
    "### Seção 3: Tuplas\n"
   ]
  },
  {
   "cell_type": "code",
   "execution_count": 7,
   "metadata": {},
   "outputs": [
    {
     "name": "stdout",
     "output_type": "stream",
     "text": [
      "Primeira cor: vermelho\n"
     ]
    }
   ],
   "source": [
    "# Criando uma tupla\n",
    "cores = (\"vermelho\", \"verde\", \"azul\")\n",
    "\n",
    "# Acessando elementos da tupla\n",
    "print(\"Primeira cor:\", cores[0])\n",
    "\n",
    "# Nota: Tuplas são imutáveis, não é possível adicionar ou remover elementos.\n"
   ]
  },
  {
   "cell_type": "markdown",
   "metadata": {},
   "source": [
    "### Seção 4: Dicionários de Dados\n"
   ]
  },
  {
   "cell_type": "code",
   "execution_count": 9,
   "metadata": {},
   "outputs": [
    {
     "name": "stdout",
     "output_type": "stream",
     "text": [
      "Nome do aluno: João\n",
      "Idade do aluno: 20\n",
      "Dicionário de aluno atualizado: {'nome': 'João', 'idade': 20, 'curso': 'Engenharia', 'universidade': 'UFPR'}\n",
      "Dicionário de aluno após edição: {'nome': 'João', 'idade': 21, 'curso': 'Engenharia', 'universidade': 'UFPR'}\n",
      "Dicionário de aluno após remoção: {'nome': 'João', 'idade': 21, 'universidade': 'UFPR'}\n",
      "Chaves no dicionário: dict_keys(['nome', 'idade', 'universidade'])\n",
      "Valores no dicionário: dict_values(['João', 21, 'UFPR'])\n"
     ]
    }
   ],
   "source": [
    "# Criando um dicionário\n",
    "aluno = {\"nome\": \"João\", \"idade\": 20, \"curso\": \"Engenharia\"}\n",
    "\n",
    "# Acessando valores do dicionário\n",
    "print(\"Nome do aluno:\", aluno[\"nome\"])\n",
    "print(\"Idade do aluno:\", aluno[\"idade\"])\n",
    "\n",
    "# Adicionando um novo par chave-valor\n",
    "aluno[\"universidade\"] = \"UFPR\"\n",
    "print(\"Dicionário de aluno atualizado:\", aluno)\n",
    "\n",
    "# Editando valores no dicionário\n",
    "aluno[\"idade\"] = 21\n",
    "print(\"Dicionário de aluno após edição:\", aluno)\n",
    "\n",
    "# Removendo um par chave-valor do dicionário\n",
    "del aluno[\"curso\"]\n",
    "print(\"Dicionário de aluno após remoção:\", aluno)\n",
    "\n",
    "# Outras operações úteis com dicionários\n",
    "print(\"Chaves no dicionário:\", aluno.keys())\n",
    "print(\"Valores no dicionário:\", aluno.values())\n"
   ]
  },
  {
   "cell_type": "markdown",
   "metadata": {},
   "source": [
    "### Seção 5: Laços de Repetição\n"
   ]
  },
  {
   "cell_type": "code",
   "execution_count": 11,
   "metadata": {},
   "outputs": [
    {
     "name": "stdout",
     "output_type": "stream",
     "text": [
      "Fruta: morango\n",
      "Fruta: laranja\n",
      "Fruta: uva\n",
      "Contador: 0\n",
      "Contador: 1\n",
      "Contador: 2\n"
     ]
    }
   ],
   "source": [
    "# Usando um laço for\n",
    "for fruta in frutas:\n",
    "    print(\"Fruta:\", fruta)\n",
    "\n",
    "# Usando um laço while\n",
    "contador = 0\n",
    "while contador < 3:\n",
    "    print(\"Contador:\", contador)\n",
    "    contador += 1\n"
   ]
  },
  {
   "cell_type": "markdown",
   "metadata": {},
   "source": [
    "### Seção 6: Manipulação de Arquivo JSON\n"
   ]
  },
  {
   "cell_type": "code",
   "execution_count": 13,
   "metadata": {},
   "outputs": [
    {
     "name": "stdout",
     "output_type": "stream",
     "text": [
      "Dados carregados do JSON: {'nome': 'Maria', 'idade': 25, 'cidades_visitadas': ['Paris', 'Londres', 'Nova York']}\n"
     ]
    }
   ],
   "source": [
    "import json\n",
    "\n",
    "# Criando um dicionário para ser salvo como JSON\n",
    "dados = {\n",
    "    \"nome\": \"Maria\",\n",
    "    \"idade\": 25,\n",
    "    \"cidades_visitadas\": [\"Paris\", \"Londres\", \"Nova York\"]\n",
    "}\n",
    "\n",
    "# Salvando o dicionário em um arquivo JSON\n",
    "with open(\"dados.json\", \"w\") as arquivo:\n",
    "    json.dump(dados, arquivo)\n",
    "\n",
    "# Carregando dados de um arquivo JSON\n",
    "with open(\"dados.json\", \"r\") as arquivo:\n",
    "    dados_carregados = json.load(arquivo)\n",
    "    print(\"Dados carregados do JSON:\", dados_carregados)\n"
   ]
  }
 ],
 "metadata": {
  "kernelspec": {
   "display_name": "Python 3 (ipykernel)",
   "language": "python",
   "name": "python3"
  },
  "language_info": {
   "codemirror_mode": {
    "name": "ipython",
    "version": 3
   },
   "file_extension": ".py",
   "mimetype": "text/x-python",
   "name": "python",
   "nbconvert_exporter": "python",
   "pygments_lexer": "ipython3",
   "version": "3.12.3"
  }
 },
 "nbformat": 4,
 "nbformat_minor": 4
}
